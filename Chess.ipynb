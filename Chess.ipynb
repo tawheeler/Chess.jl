{
 "cells": [
  {
   "cell_type": "code",
   "execution_count": null,
   "metadata": {},
   "outputs": [],
   "source": [
    "include(\"chess.jl\")"
   ]
  },
  {
   "cell_type": "code",
   "execution_count": null,
   "metadata": {},
   "outputs": [],
   "source": [
    "render_board(MailboxBoard())"
   ]
  },
  {
   "cell_type": "code",
   "execution_count": null,
   "metadata": {},
   "outputs": [],
   "source": [
    "board = MailboxBoard()\n",
    "loc = Coordinate(2,2)\n",
    "render_board(board, get_pseudo_legal_moves(board,loc), loc)"
   ]
  },
  {
   "cell_type": "code",
   "execution_count": null,
   "metadata": {},
   "outputs": [],
   "source": [
    "board = MailboxBoard()\n",
    "move = Move(Coordinate(1,2), Coordinate(1,4))\n",
    "make_move!(board, move)\n",
    "render_board(board)"
   ]
  },
  {
   "cell_type": "code",
   "execution_count": null,
   "metadata": {},
   "outputs": [],
   "source": [
    "pieces = Array{Piece}(8, 8)\n",
    "for i in 1 : 64\n",
    "    pieces[i] = Piece('_', true)\n",
    "end\n",
    "# for i in 1 : 8\n",
    "#     pieces[i,2] = Piece('P', true)\n",
    "#     pieces[i,7] = Piece('P', false)\n",
    "# end\n",
    "pieces[3,1] = Piece('B', true)\n",
    "pieces[5,1] = Piece('K', true)\n",
    "pieces[7,1] = Piece('N', true)\n",
    "# pieces[1,8] = Piece('R', false)\n",
    "pieces[5,8] = Piece('K', false)\n",
    "pieces[6,7] = Piece('Q', false)\n",
    "\n",
    "board = MailboxBoard(pieces,\n",
    "                    true,\n",
    "                    true,\n",
    "                    true,\n",
    "                    true,\n",
    "                    true,\n",
    "                    Coordinate(0,0),\n",
    "                    0,\n",
    "                    )\n",
    "render_board(board)"
   ]
  },
  {
   "cell_type": "code",
   "execution_count": null,
   "metadata": {},
   "outputs": [],
   "source": [
    "# board.white_to_move = false\n",
    "get_legal_moves(board)"
   ]
  },
  {
   "cell_type": "code",
   "execution_count": null,
   "metadata": {},
   "outputs": [],
   "source": [
    "src = Coordinate(5,1)\n",
    "pl_moves = [Move(src,dst) for dst in get_pseudo_legal_moves(board, src)]\n",
    "filter!(move -> begin\n",
    "                board2 = make_move(board, Move(move))\n",
    "                my_king_loc = get_king_location(board2, board.white_to_move)\n",
    "                !is_location_in_check(board2, my_king_loc, board.white_to_move)\n",
    "            end, pl_moves)"
   ]
  },
  {
   "cell_type": "markdown",
   "metadata": {},
   "source": [
    "# Perf Tests"
   ]
  },
  {
   "cell_type": "code",
   "execution_count": null,
   "metadata": {},
   "outputs": [],
   "source": [
    "boards = get_reachable_boards_with_one_more_move(MailboxBoard())\n",
    "@test length(boards) == 20 # depth 1\n",
    "for (depth, node_count) in ((2,400), (3,9802))\n",
    "    boards = get_reachable_boards_with_one_more_move(boards)\n",
    "    @test length(boards) == node_count\n",
    "end"
   ]
  },
  {
   "cell_type": "code",
   "execution_count": null,
   "metadata": {
    "collapsed": true
   },
   "outputs": [],
   "source": []
  }
 ],
 "metadata": {
  "kernelspec": {
   "display_name": "Julia 0.6.1",
   "language": "julia",
   "name": "julia-0.6"
  },
  "language_info": {
   "file_extension": ".jl",
   "mimetype": "application/julia",
   "name": "julia",
   "version": "0.6.1"
  }
 },
 "nbformat": 4,
 "nbformat_minor": 2
}
